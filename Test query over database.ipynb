{
 "cells": [
  {
   "cell_type": "markdown",
   "metadata": {},
   "source": [
    "# Example of how to use pandas to perform a query in two list "
   ]
  },
  {
   "cell_type": "code",
   "execution_count": 4,
   "metadata": {},
   "outputs": [],
   "source": [
    "# First we import the libraries\n",
    "\n",
    "import numpy as np\n",
    "import pandas as pd"
   ]
  },
  {
   "cell_type": "code",
   "execution_count": 86,
   "metadata": {},
   "outputs": [],
   "source": [
    "cities = ['Malaga','Sevilla','Almeria','Cartagena']\n",
    "states = ['Andalucia','Murcia']\n",
    "\n",
    "value = [3,4,5,6,1,3,5,7,8,9]\n",
    "places = ['Malaga', 'Andalucia', 'Murcia','Sevilla','Almeria','Cartagena','Malaga','Andalucia','Sevilla','Almeria']"
   ]
  },
  {
   "cell_type": "markdown",
   "metadata": {},
   "source": [
    "# The if strategy\n",
    "\n",
    "Numpy is a library to work in an efficient manner with arrays. using the method zip we are going to mix the two list of data."
   ]
  },
  {
   "cell_type": "code",
   "execution_count": 31,
   "metadata": {},
   "outputs": [
    {
     "name": "stdout",
     "output_type": "stream",
     "text": [
      "('Malaga', 3)\n"
     ]
    }
   ],
   "source": [
    "#We try it using a numpy array\n",
    "\n",
    "array = list(zip(places,value))\n",
    "#print(array)\n",
    "\n",
    "narray = np.array(array)\n",
    "narray[narray == 'Murcia']\n",
    "\n",
    "print(array[array == 'Murcia'])"
   ]
  },
  {
   "cell_type": "code",
   "execution_count": 90,
   "metadata": {},
   "outputs": [
    {
     "name": "stdout",
     "output_type": "stream",
     "text": [
      "[('Andalucia', 4), ('Murcia', 5), ('Andalucia', 7)]\n",
      "[('Malaga', 3), ('Sevilla', 6), ('Almeria', 1), ('Cartagena', 3), ('Malaga', 5), ('Sevilla', 8), ('Almeria', 9)]\n",
      "CPU times: user 846 µs, sys: 0 ns, total: 846 µs\n",
      "Wall time: 547 µs\n"
     ]
    }
   ],
   "source": [
    "%%time \n",
    "array = list(zip(places,value))\n",
    "\n",
    "statesList = []\n",
    "citiesList = []\n",
    "\n",
    "for row in array:\n",
    "    #The possition [0] will be the name of the city, the possition [1] will be the value. The append method will add \n",
    "    #the row to the list. \n",
    "    if row[0] in cities:\n",
    "        \n",
    "        citiesList.append(row)\n",
    "    elif row[0] in states:\n",
    "        \n",
    "        statesList.append(row)\n",
    "        \n",
    "print(statesList)\n",
    "print(citiesList)"
   ]
  },
  {
   "cell_type": "markdown",
   "metadata": {},
   "source": [
    "# The pandas strategy\n",
    "\n",
    "Pandas is a library to work with dataframes. We can see the data as analogous to a excel sheet."
   ]
  },
  {
   "cell_type": "code",
   "execution_count": 88,
   "metadata": {},
   "outputs": [
    {
     "name": "stdout",
     "output_type": "stream",
     "text": [
      "      places  value\n",
      "0     Malaga      3\n",
      "1  Andalucia      4\n",
      "2     Murcia      5\n",
      "3    Sevilla      6\n",
      "4    Almeria      1\n",
      "5  Cartagena      3\n",
      "6     Malaga      5\n",
      "7  Andalucia      7\n",
      "8    Sevilla      8\n",
      "9    Almeria      9\n"
     ]
    }
   ],
   "source": [
    "dictionary = {'places': places, 'value':value}\n",
    "df = pd.DataFrame(data=dictionary)\n",
    "\n",
    "print(df)"
   ]
  },
  {
   "cell_type": "code",
   "execution_count": 23,
   "metadata": {},
   "outputs": [
    {
     "data": {
      "text/html": [
       "<div>\n",
       "<style scoped>\n",
       "    .dataframe tbody tr th:only-of-type {\n",
       "        vertical-align: middle;\n",
       "    }\n",
       "\n",
       "    .dataframe tbody tr th {\n",
       "        vertical-align: top;\n",
       "    }\n",
       "\n",
       "    .dataframe thead th {\n",
       "        text-align: right;\n",
       "    }\n",
       "</style>\n",
       "<table border=\"1\" class=\"dataframe\">\n",
       "  <thead>\n",
       "    <tr style=\"text-align: right;\">\n",
       "      <th></th>\n",
       "      <th>places</th>\n",
       "      <th>value</th>\n",
       "    </tr>\n",
       "  </thead>\n",
       "  <tbody>\n",
       "    <tr>\n",
       "      <th>0</th>\n",
       "      <td>Malaga</td>\n",
       "      <td>3</td>\n",
       "    </tr>\n",
       "    <tr>\n",
       "      <th>6</th>\n",
       "      <td>Malaga</td>\n",
       "      <td>5</td>\n",
       "    </tr>\n",
       "  </tbody>\n",
       "</table>\n",
       "</div>"
      ],
      "text/plain": [
       "   places  value\n",
       "0  Malaga      3\n",
       "6  Malaga      5"
      ]
     },
     "execution_count": 23,
     "metadata": {},
     "output_type": "execute_result"
    }
   ],
   "source": [
    "df[df.places == 'Malaga']"
   ]
  },
  {
   "cell_type": "markdown",
   "metadata": {},
   "source": [
    "To do a query having a "
   ]
  },
  {
   "cell_type": "code",
   "execution_count": 58,
   "metadata": {},
   "outputs": [
    {
     "name": "stdout",
     "output_type": "stream",
     "text": [
      "CPU times: user 7 µs, sys: 0 ns, total: 7 µs\n",
      "Wall time: 14.3 µs\n"
     ]
    },
    {
     "data": {
      "text/html": [
       "<div>\n",
       "<style scoped>\n",
       "    .dataframe tbody tr th:only-of-type {\n",
       "        vertical-align: middle;\n",
       "    }\n",
       "\n",
       "    .dataframe tbody tr th {\n",
       "        vertical-align: top;\n",
       "    }\n",
       "\n",
       "    .dataframe thead th {\n",
       "        text-align: right;\n",
       "    }\n",
       "</style>\n",
       "<table border=\"1\" class=\"dataframe\">\n",
       "  <thead>\n",
       "    <tr style=\"text-align: right;\">\n",
       "      <th></th>\n",
       "      <th>places</th>\n",
       "      <th>value</th>\n",
       "    </tr>\n",
       "  </thead>\n",
       "  <tbody>\n",
       "    <tr>\n",
       "      <th>0</th>\n",
       "      <td>Malaga</td>\n",
       "      <td>3</td>\n",
       "    </tr>\n",
       "    <tr>\n",
       "      <th>3</th>\n",
       "      <td>Sevilla</td>\n",
       "      <td>6</td>\n",
       "    </tr>\n",
       "    <tr>\n",
       "      <th>4</th>\n",
       "      <td>Almeria</td>\n",
       "      <td>1</td>\n",
       "    </tr>\n",
       "    <tr>\n",
       "      <th>5</th>\n",
       "      <td>Cartagena</td>\n",
       "      <td>3</td>\n",
       "    </tr>\n",
       "    <tr>\n",
       "      <th>6</th>\n",
       "      <td>Malaga</td>\n",
       "      <td>5</td>\n",
       "    </tr>\n",
       "    <tr>\n",
       "      <th>8</th>\n",
       "      <td>Sevilla</td>\n",
       "      <td>8</td>\n",
       "    </tr>\n",
       "    <tr>\n",
       "      <th>9</th>\n",
       "      <td>Almeria</td>\n",
       "      <td>9</td>\n",
       "    </tr>\n",
       "  </tbody>\n",
       "</table>\n",
       "</div>"
      ],
      "text/plain": [
       "      places  value\n",
       "0     Malaga      3\n",
       "3    Sevilla      6\n",
       "4    Almeria      1\n",
       "5  Cartagena      3\n",
       "6     Malaga      5\n",
       "8    Sevilla      8\n",
       "9    Almeria      9"
      ]
     },
     "execution_count": 58,
     "metadata": {},
     "output_type": "execute_result"
    }
   ],
   "source": [
    "%%time\n",
    "\n",
    "df[df.places.isin(cities)]"
   ]
  },
  {
   "cell_type": "code",
   "execution_count": 91,
   "metadata": {},
   "outputs": [
    {
     "name": "stdout",
     "output_type": "stream",
     "text": [
      "CPU times: user 2.47 ms, sys: 0 ns, total: 2.47 ms\n",
      "Wall time: 2.41 ms\n"
     ]
    },
    {
     "data": {
      "text/html": [
       "<div>\n",
       "<style scoped>\n",
       "    .dataframe tbody tr th:only-of-type {\n",
       "        vertical-align: middle;\n",
       "    }\n",
       "\n",
       "    .dataframe tbody tr th {\n",
       "        vertical-align: top;\n",
       "    }\n",
       "\n",
       "    .dataframe thead th {\n",
       "        text-align: right;\n",
       "    }\n",
       "</style>\n",
       "<table border=\"1\" class=\"dataframe\">\n",
       "  <thead>\n",
       "    <tr style=\"text-align: right;\">\n",
       "      <th></th>\n",
       "      <th>places</th>\n",
       "      <th>value</th>\n",
       "    </tr>\n",
       "  </thead>\n",
       "  <tbody>\n",
       "    <tr>\n",
       "      <th>1</th>\n",
       "      <td>Andalucia</td>\n",
       "      <td>4</td>\n",
       "    </tr>\n",
       "    <tr>\n",
       "      <th>2</th>\n",
       "      <td>Murcia</td>\n",
       "      <td>5</td>\n",
       "    </tr>\n",
       "    <tr>\n",
       "      <th>7</th>\n",
       "      <td>Andalucia</td>\n",
       "      <td>7</td>\n",
       "    </tr>\n",
       "  </tbody>\n",
       "</table>\n",
       "</div>"
      ],
      "text/plain": [
       "      places  value\n",
       "1  Andalucia      4\n",
       "2     Murcia      5\n",
       "7  Andalucia      7"
      ]
     },
     "execution_count": 91,
     "metadata": {},
     "output_type": "execute_result"
    }
   ],
   "source": [
    "%%time\n",
    "df[df.places.isin(states)]"
   ]
  },
  {
   "cell_type": "markdown",
   "metadata": {},
   "source": [
    "# Performance.\n",
    "\n",
    "Here it seems that the if method is much more faster than Pandas **but what if we work with huge datasets**"
   ]
  },
  {
   "cell_type": "code",
   "execution_count": 102,
   "metadata": {},
   "outputs": [],
   "source": [
    "valuehuge = np.repeat(value,10000000)\n",
    "placeshuge = np.repeat(places,10000000)\n"
   ]
  },
  {
   "cell_type": "code",
   "execution_count": 103,
   "metadata": {},
   "outputs": [
    {
     "name": "stdout",
     "output_type": "stream",
     "text": [
      "CPU times: user 48.1 s, sys: 9.03 s, total: 57.2 s\n",
      "Wall time: 56.8 s\n"
     ]
    }
   ],
   "source": [
    "%%time\n",
    "\n",
    "array = list(zip(placeshuge,valuehuge))\n",
    "\n",
    "statesList = []\n",
    "citiesList = []\n",
    "\n",
    "for row in array:\n",
    "    #The possition [0] will be the name of the city, the possition [1] will be the value. The append method will add \n",
    "    #the row to the list. \n",
    "    if row[0] in cities:\n",
    "        \n",
    "        citiesList.append(row)\n",
    "    elif row[0] in states:\n",
    "        \n",
    "        statesList.append(row)\n",
    "        \n",
    "#print(statesList)\n",
    "#print(citiesList)"
   ]
  },
  {
   "cell_type": "code",
   "execution_count": 104,
   "metadata": {},
   "outputs": [
    {
     "name": "stdout",
     "output_type": "stream",
     "text": [
      "CPU times: user 24 s, sys: 7.42 s, total: 31.4 s\n",
      "Wall time: 25.2 s\n"
     ]
    }
   ],
   "source": [
    "%%time\n",
    "dictionary = {'places': placeshuge, 'value':valuehuge}\n",
    "df = pd.DataFrame(data=dictionary)\n",
    "\n",
    "citiesList = df[df.places.isin(cities)]\n",
    "statesList = df[df.places.isin(states)]"
   ]
  },
  {
   "cell_type": "markdown",
   "metadata": {},
   "source": [
    "So, the time used by the pandas method is almost half. "
   ]
  }
 ],
 "metadata": {
  "kernelspec": {
   "display_name": "Python 3",
   "language": "python",
   "name": "python3"
  },
  "language_info": {
   "codemirror_mode": {
    "name": "ipython",
    "version": 3
   },
   "file_extension": ".py",
   "mimetype": "text/x-python",
   "name": "python",
   "nbconvert_exporter": "python",
   "pygments_lexer": "ipython3",
   "version": "3.7.3"
  }
 },
 "nbformat": 4,
 "nbformat_minor": 2
}
